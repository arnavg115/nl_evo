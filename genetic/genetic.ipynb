{
  "cells": [
    {
      "cell_type": "code",
      "execution_count": 20,
      "metadata": {
        "id": "h3YZYqyfsGym"
      },
      "outputs": [],
      "source": [
        "import numpy as np\n",
        "from scipy import optimize\n",
        "import matplotlib.pyplot as plt\n",
        "import random\n",
        "from tqdm import tqdm\n",
        "import sympy"
      ]
    },
    {
      "cell_type": "code",
      "execution_count": 126,
      "metadata": {
        "id": "JrcqxlATuMo9"
      },
      "outputs": [],
      "source": [
        "N = 200\n",
        "phi = 0.25\n",
        "GEN = 50\n",
        "TOP = 10\n",
        "CLONE = 0.1"
      ]
    },
    {
      "cell_type": "code",
      "execution_count": 39,
      "metadata": {
        "id": "mUZfE2ihucr7"
      },
      "outputs": [],
      "source": [
        "def h(x):\n",
        "  return -x * (x-0.25) * (x-1)"
      ]
    },
    {
      "cell_type": "code",
      "execution_count": 104,
      "metadata": {
        "id": "nKARdpHesIzg"
      },
      "outputs": [],
      "source": [
        "class Individual:\n",
        "  def __init__(self, parent=False, clone=False, par=None, mutations=2):\n",
        "    self.weights = np.random.uniform(-1,1, (8,))\n",
        "    self.syms = sympy.symbols(\"A:H\")\n",
        "    self.phi = sympy.Symbol(\"phi\")\n",
        "    self.eq = self.generate_eq()\n",
        "    self.mutations = mutations\n",
        "    self.y = 0.25\n",
        "    if parent:\n",
        "      self.from_parent(clone, par)\n",
        "  \n",
        "  def from_parent(self,clone:bool, par: \"Individual\"):\n",
        "    self.weights = par.weights.copy()\n",
        "    if not clone:\n",
        "      rand = np.random.randint(0,8, (self.mutations))\n",
        "      for index in rand:\n",
        "        self.weights[index] = np.random.uniform(-1,1)\n",
        "    \n",
        "  \n",
        "  def ret_eq(self, params):\n",
        "    roots = sympy.real_roots(self.eq.subs(params))\n",
        "    all = []\n",
        "    for i in roots:\n",
        "      all.append(i.evalf())\n",
        "    ind = np.abs(np.array(all) - 0.25).argmin()\n",
        "    sign = self.eq.subs(params).diff().subs({self.phi: all[ind]})\n",
        "    if sign > 0:\n",
        "      return all[ind] * 10\n",
        "    return all[ind]\n",
        "  \n",
        "  def stabilities(self):\n",
        "    params = dict(zip(self.syms, self.weights))\n",
        "    return float(self.ret_eq(params))\n",
        "\n",
        "  def return_matrices(self):\n",
        "    gamma = np.zeros((2,2)).tolist()\n",
        "    alpha = np.zeros_like(gamma).tolist()\n",
        "    for ind,w in enumerate(self.weights[:4]):\n",
        "      gamma[ind>1][ind%3 != 0] = w\n",
        "    for ind,w in enumerate(self.weights[4:]):\n",
        "      alpha[ind >1][ind%3 != 0] = w\n",
        "    return alpha, gamma\n",
        "\n",
        "  def from_matrices(self, alpha, gamma):\n",
        "    out = []\n",
        "    for ind in range(4):\n",
        "      out.append(gamma[ind > 1][ind%3!=0])\n",
        "    for ind in range(4):\n",
        "      out.append(alpha[ind> 1][ind%3!=0])\n",
        "    self.weights = np.array(out)\n",
        "\n",
        "  def generate_eq(self):\n",
        "    eq = 0\n",
        "    # h = lambda n: -n*(n-0.25) * (n-1)\n",
        "\n",
        "    for i,val in enumerate(self.syms):\n",
        "      add = ((i % 2) == 1) * 0.5\n",
        "      neg = (i > 3) * 2 - 1\n",
        "      eq+=h(neg* self.phi + add) * val * -1 * neg\n",
        "    return eq\n",
        "  \n",
        "  def print_eq(self):\n",
        "    params = dict(zip(self.syms, self.weights))\n",
        "    return self.eq.subs(params).subs({self.phi: sympy.Symbol(\"x\")})\n",
        "  \n",
        "  def reset(self):\n",
        "    self.weights = np.random.uniform(-1,1,(8,)).astype(np.float32)\n",
        "    return self.weights\n",
        " "
      ]
    },
    {
      "cell_type": "code",
      "execution_count": 103,
      "metadata": {},
      "outputs": [
        {
          "data": {
            "text/latex": [
              "$\\displaystyle 1.75551522232452$"
            ],
            "text/plain": [
              "1.75551522232452"
            ]
          },
          "execution_count": 103,
          "metadata": {},
          "output_type": "execute_result"
        }
      ],
      "source": [
        "Individual().print_eq().diff().subs({\"x\":0.25})"
      ]
    },
    {
      "cell_type": "code",
      "execution_count": 128,
      "metadata": {},
      "outputs": [
        {
          "name": "stderr",
          "output_type": "stream",
          "text": [
            "100%|██████████| 50/50 [13:47<00:00, 16.55s/it]\n",
            " 50%|█████     | 25/50 [06:46<06:46, 16.26s/it]\n"
          ]
        },
        {
          "ename": "KeyboardInterrupt",
          "evalue": "",
          "output_type": "error",
          "traceback": [
            "\u001b[0;31m---------------------------------------------------------------------------\u001b[0m",
            "\u001b[0;31mKeyboardInterrupt\u001b[0m                         Traceback (most recent call last)",
            "Cell \u001b[0;32mIn[128], line 5\u001b[0m\n\u001b[1;32m      2\u001b[0m individuals \u001b[39m=\u001b[39m [Individual() \u001b[39mfor\u001b[39;00m i \u001b[39min\u001b[39;00m \u001b[39mrange\u001b[39m(N)]\n\u001b[1;32m      4\u001b[0m \u001b[39mfor\u001b[39;00m _ \u001b[39min\u001b[39;00m tqdm(\u001b[39mrange\u001b[39m(GEN)):\n\u001b[0;32m----> 5\u001b[0m     steps \u001b[39m=\u001b[39m [ind\u001b[39m.\u001b[39mstabilities() \u001b[39mfor\u001b[39;00m ind \u001b[39min\u001b[39;00m individuals]\n\u001b[1;32m      7\u001b[0m     normed \u001b[39m=\u001b[39m np\u001b[39m.\u001b[39mabsolute(np\u001b[39m.\u001b[39marray(steps,dtype\u001b[39m=\u001b[39m\u001b[39mfloat\u001b[39m) \u001b[39m-\u001b[39m phi)\n\u001b[1;32m      8\u001b[0m     \u001b[39msorted\u001b[39m \u001b[39m=\u001b[39m np\u001b[39m.\u001b[39margsort(normed)[:TOP]\n",
            "Cell \u001b[0;32mIn[128], line 5\u001b[0m, in \u001b[0;36m<listcomp>\u001b[0;34m(.0)\u001b[0m\n\u001b[1;32m      2\u001b[0m individuals \u001b[39m=\u001b[39m [Individual() \u001b[39mfor\u001b[39;00m i \u001b[39min\u001b[39;00m \u001b[39mrange\u001b[39m(N)]\n\u001b[1;32m      4\u001b[0m \u001b[39mfor\u001b[39;00m _ \u001b[39min\u001b[39;00m tqdm(\u001b[39mrange\u001b[39m(GEN)):\n\u001b[0;32m----> 5\u001b[0m     steps \u001b[39m=\u001b[39m [ind\u001b[39m.\u001b[39;49mstabilities() \u001b[39mfor\u001b[39;00m ind \u001b[39min\u001b[39;00m individuals]\n\u001b[1;32m      7\u001b[0m     normed \u001b[39m=\u001b[39m np\u001b[39m.\u001b[39mabsolute(np\u001b[39m.\u001b[39marray(steps,dtype\u001b[39m=\u001b[39m\u001b[39mfloat\u001b[39m) \u001b[39m-\u001b[39m phi)\n\u001b[1;32m      8\u001b[0m     \u001b[39msorted\u001b[39m \u001b[39m=\u001b[39m np\u001b[39m.\u001b[39margsort(normed)[:TOP]\n",
            "Cell \u001b[0;32mIn[104], line 33\u001b[0m, in \u001b[0;36mIndividual.stabilities\u001b[0;34m(self)\u001b[0m\n\u001b[1;32m     31\u001b[0m \u001b[39mdef\u001b[39;00m \u001b[39mstabilities\u001b[39m(\u001b[39mself\u001b[39m):\n\u001b[1;32m     32\u001b[0m   params \u001b[39m=\u001b[39m \u001b[39mdict\u001b[39m(\u001b[39mzip\u001b[39m(\u001b[39mself\u001b[39m\u001b[39m.\u001b[39msyms, \u001b[39mself\u001b[39m\u001b[39m.\u001b[39mweights))\n\u001b[0;32m---> 33\u001b[0m   \u001b[39mreturn\u001b[39;00m \u001b[39mfloat\u001b[39m(\u001b[39mself\u001b[39;49m\u001b[39m.\u001b[39;49mret_eq(params))\n",
            "Cell \u001b[0;32mIn[104], line 21\u001b[0m, in \u001b[0;36mIndividual.ret_eq\u001b[0;34m(self, params)\u001b[0m\n\u001b[1;32m     20\u001b[0m \u001b[39mdef\u001b[39;00m \u001b[39mret_eq\u001b[39m(\u001b[39mself\u001b[39m, params):\n\u001b[0;32m---> 21\u001b[0m   roots \u001b[39m=\u001b[39m sympy\u001b[39m.\u001b[39mreal_roots(\u001b[39mself\u001b[39;49m\u001b[39m.\u001b[39;49meq\u001b[39m.\u001b[39;49msubs(params))\n\u001b[1;32m     22\u001b[0m   \u001b[39mall\u001b[39m \u001b[39m=\u001b[39m []\n\u001b[1;32m     23\u001b[0m   \u001b[39mfor\u001b[39;00m i \u001b[39min\u001b[39;00m roots:\n",
            "File \u001b[0;32m~/opt/anaconda3/envs/nl_evo/lib/python3.8/site-packages/sympy/core/basic.py:997\u001b[0m, in \u001b[0;36mBasic.subs\u001b[0;34m(self, *args, **kwargs)\u001b[0m\n\u001b[1;32m    995\u001b[0m rv \u001b[39m=\u001b[39m \u001b[39mself\u001b[39m\n\u001b[1;32m    996\u001b[0m \u001b[39mfor\u001b[39;00m old, new \u001b[39min\u001b[39;00m sequence:\n\u001b[0;32m--> 997\u001b[0m     rv \u001b[39m=\u001b[39m rv\u001b[39m.\u001b[39;49m_subs(old, new, \u001b[39m*\u001b[39;49m\u001b[39m*\u001b[39;49mkwargs)\n\u001b[1;32m    998\u001b[0m     \u001b[39mif\u001b[39;00m \u001b[39mnot\u001b[39;00m \u001b[39misinstance\u001b[39m(rv, Basic):\n\u001b[1;32m    999\u001b[0m         \u001b[39mbreak\u001b[39;00m\n",
            "File \u001b[0;32m~/opt/anaconda3/envs/nl_evo/lib/python3.8/site-packages/sympy/core/cache.py:70\u001b[0m, in \u001b[0;36m__cacheit.<locals>.func_wrapper.<locals>.wrapper\u001b[0;34m(*args, **kwargs)\u001b[0m\n\u001b[1;32m     67\u001b[0m \u001b[39m@wraps\u001b[39m(func)\n\u001b[1;32m     68\u001b[0m \u001b[39mdef\u001b[39;00m \u001b[39mwrapper\u001b[39m(\u001b[39m*\u001b[39margs, \u001b[39m*\u001b[39m\u001b[39m*\u001b[39mkwargs):\n\u001b[1;32m     69\u001b[0m     \u001b[39mtry\u001b[39;00m:\n\u001b[0;32m---> 70\u001b[0m         retval \u001b[39m=\u001b[39m cfunc(\u001b[39m*\u001b[39;49margs, \u001b[39m*\u001b[39;49m\u001b[39m*\u001b[39;49mkwargs)\n\u001b[1;32m     71\u001b[0m     \u001b[39mexcept\u001b[39;00m \u001b[39mTypeError\u001b[39;00m \u001b[39mas\u001b[39;00m e:\n\u001b[1;32m     72\u001b[0m         \u001b[39mif\u001b[39;00m \u001b[39mnot\u001b[39;00m e\u001b[39m.\u001b[39margs \u001b[39mor\u001b[39;00m \u001b[39mnot\u001b[39;00m e\u001b[39m.\u001b[39margs[\u001b[39m0\u001b[39m]\u001b[39m.\u001b[39mstartswith(\u001b[39m'\u001b[39m\u001b[39munhashable type:\u001b[39m\u001b[39m'\u001b[39m):\n",
            "File \u001b[0;32m~/opt/anaconda3/envs/nl_evo/lib/python3.8/site-packages/sympy/core/basic.py:1111\u001b[0m, in \u001b[0;36mBasic._subs\u001b[0;34m(self, old, new, **hints)\u001b[0m\n\u001b[1;32m   1109\u001b[0m rv \u001b[39m=\u001b[39m \u001b[39mself\u001b[39m\u001b[39m.\u001b[39m_eval_subs(old, new)\n\u001b[1;32m   1110\u001b[0m \u001b[39mif\u001b[39;00m rv \u001b[39mis\u001b[39;00m \u001b[39mNone\u001b[39;00m:\n\u001b[0;32m-> 1111\u001b[0m     rv \u001b[39m=\u001b[39m fallback(\u001b[39mself\u001b[39;49m, old, new)\n\u001b[1;32m   1112\u001b[0m \u001b[39mreturn\u001b[39;00m rv\n",
            "File \u001b[0;32m~/opt/anaconda3/envs/nl_evo/lib/python3.8/site-packages/sympy/core/basic.py:1084\u001b[0m, in \u001b[0;36mBasic._subs.<locals>.fallback\u001b[0;34m(self, old, new)\u001b[0m\n\u001b[1;32m   1082\u001b[0m     \u001b[39mcontinue\u001b[39;00m\n\u001b[1;32m   1083\u001b[0m arg \u001b[39m=\u001b[39m arg\u001b[39m.\u001b[39m_subs(old, new, \u001b[39m*\u001b[39m\u001b[39m*\u001b[39mhints)\n\u001b[0;32m-> 1084\u001b[0m \u001b[39mif\u001b[39;00m \u001b[39mnot\u001b[39;00m _aresame(arg, args[i]):\n\u001b[1;32m   1085\u001b[0m     hit \u001b[39m=\u001b[39m \u001b[39mTrue\u001b[39;00m\n\u001b[1;32m   1086\u001b[0m     args[i] \u001b[39m=\u001b[39m arg\n",
            "File \u001b[0;32m~/opt/anaconda3/envs/nl_evo/lib/python3.8/site-packages/sympy/core/basic.py:2044\u001b[0m, in \u001b[0;36m_aresame\u001b[0;34m(a, b)\u001b[0m\n\u001b[1;32m   2042\u001b[0m \u001b[39mif\u001b[39;00m \u001b[39misinstance\u001b[39m(a, Number) \u001b[39mand\u001b[39;00m \u001b[39misinstance\u001b[39m(b, Number):\n\u001b[1;32m   2043\u001b[0m     \u001b[39mreturn\u001b[39;00m a \u001b[39m==\u001b[39m b \u001b[39mand\u001b[39;00m a\u001b[39m.\u001b[39m\u001b[39m__class__\u001b[39m \u001b[39m==\u001b[39m b\u001b[39m.\u001b[39m\u001b[39m__class__\u001b[39m\n\u001b[0;32m-> 2044\u001b[0m \u001b[39mfor\u001b[39;00m i, j \u001b[39min\u001b[39;00m zip_longest(_preorder_traversal(a), _preorder_traversal(b)):\n\u001b[1;32m   2045\u001b[0m     \u001b[39mif\u001b[39;00m i \u001b[39m!=\u001b[39m j \u001b[39mor\u001b[39;00m \u001b[39mtype\u001b[39m(i) \u001b[39m!=\u001b[39m \u001b[39mtype\u001b[39m(j):\n\u001b[1;32m   2046\u001b[0m         \u001b[39mif\u001b[39;00m ((\u001b[39misinstance\u001b[39m(i, UndefFunc) \u001b[39mand\u001b[39;00m \u001b[39misinstance\u001b[39m(j, UndefFunc)) \u001b[39mor\u001b[39;00m\n\u001b[1;32m   2047\u001b[0m             (\u001b[39misinstance\u001b[39m(i, AppliedUndef) \u001b[39mand\u001b[39;00m \u001b[39misinstance\u001b[39m(j, AppliedUndef))):\n",
            "File \u001b[0;32m~/opt/anaconda3/envs/nl_evo/lib/python3.8/site-packages/sympy/core/traversal.py:164\u001b[0m, in \u001b[0;36mpreorder_traversal.__next__\u001b[0;34m(self)\u001b[0m\n\u001b[1;32m    163\u001b[0m \u001b[39mdef\u001b[39;00m \u001b[39m__next__\u001b[39m(\u001b[39mself\u001b[39m):\n\u001b[0;32m--> 164\u001b[0m     \u001b[39mreturn\u001b[39;00m \u001b[39mnext\u001b[39;49m(\u001b[39mself\u001b[39;49m\u001b[39m.\u001b[39;49m_pt)\n",
            "File \u001b[0;32m~/opt/anaconda3/envs/nl_evo/lib/python3.8/site-packages/sympy/core/traversal.py:138\u001b[0m, in \u001b[0;36mpreorder_traversal._preorder_traversal\u001b[0;34m(self, node, keys)\u001b[0m\n\u001b[1;32m    136\u001b[0m             args \u001b[39m=\u001b[39m ordered(args)\n\u001b[1;32m    137\u001b[0m     \u001b[39mfor\u001b[39;00m arg \u001b[39min\u001b[39;00m args:\n\u001b[0;32m--> 138\u001b[0m         \u001b[39myield from\u001b[39;00m \u001b[39mself\u001b[39m\u001b[39m.\u001b[39m_preorder_traversal(arg, keys)\n\u001b[1;32m    139\u001b[0m \u001b[39melif\u001b[39;00m iterable(node):\n\u001b[1;32m    140\u001b[0m     \u001b[39mfor\u001b[39;00m item \u001b[39min\u001b[39;00m node:\n",
            "File \u001b[0;32m~/opt/anaconda3/envs/nl_evo/lib/python3.8/site-packages/sympy/core/traversal.py:121\u001b[0m, in \u001b[0;36mpreorder_traversal._preorder_traversal\u001b[0;34m(self, node, keys)\u001b[0m\n\u001b[1;32m    120\u001b[0m \u001b[39mdef\u001b[39;00m \u001b[39m_preorder_traversal\u001b[39m(\u001b[39mself\u001b[39m, node, keys):\n\u001b[0;32m--> 121\u001b[0m     \u001b[39myield\u001b[39;00m node\n\u001b[1;32m    122\u001b[0m     \u001b[39mif\u001b[39;00m \u001b[39mself\u001b[39m\u001b[39m.\u001b[39m_skip_flag:\n\u001b[1;32m    123\u001b[0m         \u001b[39mself\u001b[39m\u001b[39m.\u001b[39m_skip_flag \u001b[39m=\u001b[39m \u001b[39mFalse\u001b[39;00m\n",
            "\u001b[0;31mKeyboardInterrupt\u001b[0m: "
          ]
        }
      ],
      "source": [
        "for i in range(20):\n",
        "    individuals = [Individual() for i in range(N)]\n",
        "\n",
        "    for _ in tqdm(range(GEN)):\n",
        "        steps = [ind.stabilities() for ind in individuals]\n",
        "        \n",
        "        normed = np.absolute(np.array(steps,dtype=float) - phi)\n",
        "        sorted = np.argsort(normed)[:TOP]\n",
        "        \n",
        "        topN = np.array(individuals)[sorted.astype(int)]\n",
        "\n",
        "        individuals.clear()\n",
        "\n",
        "        totalper = N/TOP\n",
        "        numper = (200 * CLONE) // TOP\n",
        "\n",
        "        for ind in topN:\n",
        "            for _ in range(int(numper)):\n",
        "                individuals.append(Individual(parent=True, clone=True, par=ind))\n",
        "            for _ in range(int(totalper-numper)):\n",
        "                individuals.append(Individual(parent=True, clone=False, par=ind))\n",
        "    out = np.concatenate(topN[0].return_matrices())\n",
        "    np.save(\"gen_trials.npy\",out)"
      ]
    },
    {
      "cell_type": "code",
      "execution_count": 127,
      "metadata": {},
      "outputs": [
        {
          "data": {
            "text/plain": [
              "array([[ 0.99647353, -0.54286653],\n",
              "       [-0.45824586,  0.98869601],\n",
              "       [-0.44353052,  0.9720073 ],\n",
              "       [ 0.98677499, -0.15714826]])"
            ]
          },
          "execution_count": 127,
          "metadata": {},
          "output_type": "execute_result"
        }
      ],
      "source": [
        "np.concatenate(topN[0].return_matrices())"
      ]
    }
  ],
  "metadata": {
    "colab": {
      "collapsed_sections": [],
      "provenance": []
    },
    "kernelspec": {
      "display_name": "Python 3",
      "name": "python3"
    },
    "language_info": {
      "codemirror_mode": {
        "name": "ipython",
        "version": 3
      },
      "file_extension": ".py",
      "mimetype": "text/x-python",
      "name": "python",
      "nbconvert_exporter": "python",
      "pygments_lexer": "ipython3",
      "version": "3.8.15"
    }
  },
  "nbformat": 4,
  "nbformat_minor": 0
}
