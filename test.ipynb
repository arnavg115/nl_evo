{
 "cells": [
  {
   "cell_type": "code",
   "execution_count": 1,
   "metadata": {},
   "outputs": [],
   "source": [
    "import numpy as np\n",
    "from scipy.spatial import distance"
   ]
  },
  {
   "cell_type": "code",
   "execution_count": 4,
   "metadata": {},
   "outputs": [],
   "source": [
    "def h(x):\n",
    "    return -x * (x-0.25) * (x-1)"
   ]
  },
  {
   "cell_type": "code",
   "execution_count": 2,
   "metadata": {},
   "outputs": [],
   "source": [
    "def cos_dist(a,b):\n",
    "    a = np.array(a).flatten()\n",
    "    b = np.array(b).flatten()\n",
    "    return distance.cosine(a,b)\n"
   ]
  },
  {
   "cell_type": "code",
   "execution_count": 6,
   "metadata": {},
   "outputs": [
    {
     "name": "stdout",
     "output_type": "stream",
     "text": [
      "Rising connections are closest for rl\n",
      "Falling connections are closest for rl\n"
     ]
    }
   ],
   "source": [
    "algs = [\"backprop\",\"rl\", \"genetic algorithm\"]\n",
    "bp = ([[2.52091804732386, 1.29045225242508], [-1.24169476935841, -0.238197520012114]], [[-1.50106519346959, 1.79716577669701], [2.48891207043167, 1.53028403754881]])\n",
    "rl = ([[13.550731, -14.346133], [-0.46106577, -9.906746]], [[-5.983049, 2.947499], [2.4346135, -2.9166093]])\n",
    "gen =([[0.9964735308646084, -0.5428665327580082], [-0.4582458570369734, 0.9886960084611012]], [[-0.44353052256175296, 0.9720073038868953], [0.9867749947415139, -0.15714826478774846]])\n",
    "og = ([[1,0],[0,0]],[[0,0],[1,0]])\n",
    "alpha_scores = cos_dist(og[0],bp[0]), cos_dist(og[0],rl[0]),cos_dist(og[0],gen[0])\n",
    "beta_scores = cos_dist(og[1],bp[1]), cos_dist(og[1],rl[1]), cos_dist(og[1],gen[1])\n",
    "print(f\"Rising connections are closest for {algs[np.argmax(alpha_scores)]}\")\n",
    "print(f\"Falling connections are closest for {algs[np.argmax(beta_scores)]}\")\n"
   ]
  }
 ],
 "metadata": {
  "kernelspec": {
   "display_name": "nl_evo",
   "language": "python",
   "name": "python3"
  },
  "language_info": {
   "codemirror_mode": {
    "name": "ipython",
    "version": 3
   },
   "file_extension": ".py",
   "mimetype": "text/x-python",
   "name": "python",
   "nbconvert_exporter": "python",
   "pygments_lexer": "ipython3",
   "version": "3.8.15"
  },
  "orig_nbformat": 4
 },
 "nbformat": 4,
 "nbformat_minor": 2
}
